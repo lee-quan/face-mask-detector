{
 "cells": [
  {
   "cell_type": "code",
   "execution_count": 1,
   "id": "0a0abe37",
   "metadata": {},
   "outputs": [
    {
     "name": "stdout",
     "output_type": "stream",
     "text": [
      "Init Plugin\n",
      "Init Graph Optimizer\n",
      "Init Kernel\n"
     ]
    }
   ],
   "source": [
    "import tensorflow as ts\n",
    "from tensorflow.keras.preprocessing.image import ImageDataGenerator\n",
    "from tensorflow.keras.applications import MobileNetV2\n",
    "from tensorflow.keras.layers import AveragePooling2D\n",
    "from tensorflow.keras.layers import Dropout\n",
    "from tensorflow.keras.layers import Flatten\n",
    "from tensorflow.keras.layers import Dense\n",
    "from tensorflow.keras.layers import Input\n",
    "from tensorflow.keras import Model\n",
    "from tensorflow.keras.optimizers import Adam\n",
    "from tensorflow.keras.applications.mobilenet_v2 import preprocess_input\n",
    "from tensorflow.keras.preprocessing.image import img_to_array\n",
    "from tensorflow.keras.preprocessing.image import load_img\n",
    "from tensorflow.keras.utils import to_categorical\n",
    "from sklearn.preprocessing import LabelBinarizer\n",
    "from sklearn.model_selection import train_test_split\n",
    "from sklearn.metrics import classification_report\n",
    "from datetime import datetime\n",
    "import matplotlib.pyplot as plt\n",
    "import numpy as np\n",
    "import os\n",
    "import pathlib\n",
    "import session_info"
   ]
  },
  {
   "cell_type": "code",
   "execution_count": 2,
   "id": "62473bbc",
   "metadata": {},
   "outputs": [
    {
     "data": {
      "text/html": [
       "<details>\n",
       "<summary>Click to view session information</summary>\n",
       "<pre>\n",
       "-----\n",
       "matplotlib          3.5.2\n",
       "numpy               1.19.5\n",
       "session_info        1.0.0\n",
       "sklearn             1.1.1\n",
       "tensorflow          2.5.0\n",
       "-----\n",
       "</pre>\n",
       "<details>\n",
       "<summary>Click to view modules imported as dependencies</summary>\n",
       "<pre>\n",
       "2f7ece400a652629565c523b34ee61b04afa385c    NA\n",
       "OpenSSL                                     22.0.0\n",
       "PIL                                         9.1.1\n",
       "absl                                        NA\n",
       "appnope                                     0.1.3\n",
       "asttokens                                   NA\n",
       "astunparse                                  1.6.3\n",
       "backcall                                    0.2.0\n",
       "beta_ufunc                                  NA\n",
       "binom_ufunc                                 NA\n",
       "boto3                                       1.23.10\n",
       "botocore                                    1.26.10\n",
       "brotli                                      NA\n",
       "certifi                                     2022.05.18.1\n",
       "cffi                                        1.15.0\n",
       "charset_normalizer                          2.0.12\n",
       "colorama                                    0.4.4\n",
       "cryptography                                37.0.2\n",
       "cycler                                      0.10.0\n",
       "cython_runtime                              NA\n",
       "dateutil                                    2.8.2\n",
       "debugpy                                     1.6.0\n",
       "decorator                                   5.1.1\n",
       "defusedxml                                  0.7.1\n",
       "entrypoints                                 0.4\n",
       "executing                                   0.8.3\n",
       "flatbuffers                                 NA\n",
       "gast                                        NA\n",
       "google                                      NA\n",
       "h5py                                        3.1.0\n",
       "hypergeom_ufunc                             NA\n",
       "idna                                        3.3\n",
       "importlib_metadata                          NA\n",
       "ipykernel                                   6.13.0\n",
       "ipython_genutils                            0.2.0\n",
       "jedi                                        0.18.1\n",
       "jmespath                                    1.0.0\n",
       "joblib                                      1.1.0\n",
       "keras_preprocessing                         1.1.2\n",
       "kiwisolver                                  1.4.2\n",
       "mpl_toolkits                                NA\n",
       "nbinom_ufunc                                NA\n",
       "opt_einsum                                  v3.3.0\n",
       "packaging                                   21.3\n",
       "parso                                       0.8.3\n",
       "pexpect                                     4.8.0\n",
       "pickleshare                                 0.7.5\n",
       "pkg_resources                               NA\n",
       "prompt_toolkit                              3.0.29\n",
       "psutil                                      5.9.1\n",
       "ptyprocess                                  0.7.0\n",
       "pure_eval                                   0.2.2\n",
       "pydev_ipython                               NA\n",
       "pydevconsole                                NA\n",
       "pydevd                                      2.8.0\n",
       "pydevd_file_utils                           NA\n",
       "pydevd_plugins                              NA\n",
       "pydevd_tracing                              NA\n",
       "pygments                                    2.12.0\n",
       "pyparsing                                   3.0.9\n",
       "requests                                    2.27.1\n",
       "scipy                                       1.8.1\n",
       "setuptools                                  62.3.2\n",
       "six                                         1.15.0\n",
       "socks                                       1.7.1\n",
       "stack_data                                  0.2.0\n",
       "tensorboard                                 2.9.0\n",
       "termcolor                                   1.1.0\n",
       "threadpoolctl                               3.1.0\n",
       "tornado                                     6.1\n",
       "traitlets                                   5.2.2\n",
       "typing_extensions                           NA\n",
       "unicodedata2                                NA\n",
       "urllib3                                     1.26.9\n",
       "wcwidth                                     0.2.5\n",
       "wrapt                                       1.12.1\n",
       "yaml                                        6.0\n",
       "zipp                                        NA\n",
       "zmq                                         23.0.0\n",
       "</pre>\n",
       "</details> <!-- seems like this ends pre, so might as well be explicit -->\n",
       "<pre>\n",
       "-----\n",
       "IPython             8.4.0\n",
       "jupyter_client      7.3.1\n",
       "jupyter_core        4.10.0\n",
       "notebook            6.4.11\n",
       "-----\n",
       "Python 3.9.13 | packaged by conda-forge | (main, May 27 2022, 17:00:33) [Clang 13.0.1 ]\n",
       "macOS-12.0.1-arm64-arm-64bit\n",
       "-----\n",
       "Session information updated at 2022-06-03 13:07\n",
       "</pre>\n",
       "</details>"
      ],
      "text/plain": [
       "<IPython.core.display.HTML object>"
      ]
     },
     "execution_count": 2,
     "metadata": {},
     "output_type": "execute_result"
    }
   ],
   "source": [
    "session_info.show()"
   ]
  },
  {
   "cell_type": "code",
   "execution_count": 3,
   "id": "577aab03",
   "metadata": {},
   "outputs": [
    {
     "name": "stdout",
     "output_type": "stream",
     "text": [
      "Total =  6000 , correctly Masked =  0 , incorrectly or without mask =  0\n"
     ]
    }
   ],
   "source": [
    "INIT_LR = 1e-4  # Initial Learning Rate\n",
    "EPOCHS = 15    # How many runs of trainings\n",
    "BS = 64         # Batch Size of the training\n",
    "DIRECTORY = r\"dataset\"\n",
    "CATEGORIES = [\"with_mask\", \"without_mask\"]\n",
    "data = []   #Image arrays are appended in it\n",
    "labels = [] #Appends image labels\n",
    "\n",
    "data_dir = pathlib.Path(\"dataset\")\n",
    "image_countTotal = len(list(data_dir.glob('*/*')))\n",
    "image_countMask = len(list(data_dir.glob('with_mask/*')))\n",
    "image_countWithoutMask = len(list(data_dir.glob('without_mask/*')))\n",
    "print(\"Total = \",image_countTotal, \", with_mask = \", image_countMask, \", without_mask = \",image_countWithoutMask )\n"
   ]
  },
  {
   "cell_type": "code",
   "execution_count": 4,
   "id": "295bb72b",
   "metadata": {},
   "outputs": [
    {
     "name": "stdout",
     "output_type": "stream",
     "text": [
      "[INFO] loading images\n",
      "2022-06-03 13:07:40.348348  - Loading with_mask\n"
     ]
    },
    {
     "name": "stderr",
     "output_type": "stream",
     "text": [
      "/Users/leequan/miniforge3/envs/tensorflow/lib/python3.9/site-packages/PIL/Image.py:992: UserWarning: Palette images with Transparency expressed in bytes should be converted to RGBA images\n",
      "  warnings.warn(\n"
     ]
    },
    {
     "name": "stdout",
     "output_type": "stream",
     "text": [
      "2022-06-03 13:07:56.075344  - Loaded with_mask\n",
      "2022-06-03 13:07:56.075417  - Loading without_mask\n",
      "2022-06-03 13:08:07.451287  - Loaded without_mask\n"
     ]
    }
   ],
   "source": [
    "print(\"[INFO] loading images\")\n",
    "for category in CATEGORIES:\n",
    "    print(datetime.now(),\" - Loading \"+category+\"\")\n",
    "    path = os.path.join(DIRECTORY, category)\n",
    "    for img in os.listdir(path):\n",
    "        img_path = os.path.join(path, img)  #specific path of one img\n",
    "        # LOAD IMAGE AND CONVERT SIZE\n",
    "        image = load_img(img_path,target_size=(256,256))\n",
    "        image = img_to_array(image) #KERAS: convert image to array\n",
    "        image = preprocess_input(image) #MobileNetV2\n",
    "\n",
    "        # Append Image to data list\n",
    "        data.append(image)\n",
    "\n",
    "        # Appends labels to label list\n",
    "        labels.append(category)\n",
    "    print(datetime.now(),\" - Loaded \"+category+\"\")"
   ]
  },
  {
   "cell_type": "code",
   "execution_count": 5,
   "id": "c9dc61bd",
   "metadata": {},
   "outputs": [],
   "source": [
    "# Encoding the labels as 0 and 1\n",
    "lb = LabelBinarizer()\n",
    "labels = lb.fit_transform(labels)\n",
    "labels = to_categorical(labels)\n",
    "\n",
    "data = np.array(data, dtype=\"float32\")\n",
    "labels = np.array(labels)"
   ]
  },
  {
   "cell_type": "code",
   "execution_count": 6,
   "id": "6c0ec4f7",
   "metadata": {},
   "outputs": [],
   "source": [
    "(trainX, testX, trainY, testY) = train_test_split(data, labels,test_size = 0.20, stratify=labels, random_state=53)"
   ]
  },
  {
   "cell_type": "code",
   "execution_count": 7,
   "id": "076012dc",
   "metadata": {},
   "outputs": [],
   "source": [
    "# Construct the training image generator for data augmentation\n",
    "aug = ImageDataGenerator(\n",
    "    rotation_range=20,\n",
    "    zoom_range=0.15,\n",
    "    width_shift_range=0.2,\n",
    "    height_shift_range=0.2,\n",
    "    shear_range=0.15,\n",
    "    horizontal_flip=True,\n",
    "    fill_mode=\"nearest\"\n",
    "    )"
   ]
  },
  {
   "cell_type": "code",
   "execution_count": 8,
   "id": "014b4775",
   "metadata": {},
   "outputs": [
    {
     "name": "stdout",
     "output_type": "stream",
     "text": [
      "WARNING:tensorflow:`input_shape` is undefined or non-square, or `rows` is not in [96, 128, 160, 192, 224]. Weights for input shape (224, 224) will be loaded as the default.\n",
      "Metal device set to: Apple M1\n"
     ]
    },
    {
     "name": "stderr",
     "output_type": "stream",
     "text": [
      "2022-06-03 13:08:09.622009: I tensorflow/core/common_runtime/pluggable_device/pluggable_device_factory.cc:305] Could not identify NUMA node of platform GPU ID 0, defaulting to 0. Your kernel may not have been built with NUMA support.\n",
      "2022-06-03 13:08:09.622126: I tensorflow/core/common_runtime/pluggable_device/pluggable_device_factory.cc:271] Created TensorFlow device (/job:localhost/replica:0/task:0/device:GPU:0 with 0 MB memory) -> physical PluggableDevice (device: 0, name: METAL, pci bus id: <undefined>)\n"
     ]
    }
   ],
   "source": [
    "# load the MobileNetV2 network, ensuring head fc layer sets are left off.\n",
    "# imagenet is used as the predefined weights for images\n",
    "baseModel = MobileNetV2(weights=\"imagenet\", include_top=False,\n",
    "                        input_tensor=Input(shape=(256, 256, 3)))\n"
   ]
  },
  {
   "cell_type": "code",
   "execution_count": 9,
   "id": "cfaa1adb",
   "metadata": {},
   "outputs": [],
   "source": [
    "# construct the head of the model that will be placed on top of the base mmodel\n",
    "headModel = baseModel.output\n",
    "headModel = AveragePooling2D(pool_size=(7,7))(headModel)\n",
    "headModel = Flatten(name=\"flatten\")(headModel)\n",
    "headModel = Dense(128, activation=\"relu\")(headModel) #non linear, for images\n",
    "headModel = Dropout(0.3)(headModel) # Dropout rate, careful of overfitting\n",
    "headModel = Dense(2, activation=\"softmax\")(headModel) #number of categories\n"
   ]
  },
  {
   "cell_type": "code",
   "execution_count": 10,
   "id": "70463577",
   "metadata": {},
   "outputs": [],
   "source": [
    "# place head FC model on top of base model\n",
    "# This is the ACTUAL model we will train\n",
    "model = Model(inputs=baseModel.input, outputs=headModel)"
   ]
  },
  {
   "cell_type": "code",
   "execution_count": 11,
   "id": "d0fcf076",
   "metadata": {},
   "outputs": [],
   "source": [
    "# loop over all layers in the base model and freeze them so they will not\n",
    "# be updated during the first training\n",
    "for layer in baseModel.layers:\n",
    "    layer.trainable = False\n"
   ]
  },
  {
   "cell_type": "code",
   "execution_count": 12,
   "id": "ecc7d766",
   "metadata": {},
   "outputs": [
    {
     "name": "stdout",
     "output_type": "stream",
     "text": [
      "[INFO] Compiling model...\n"
     ]
    }
   ],
   "source": [
    "# Compile Model\n",
    "print(\"[INFO] Compiling model...\")\n",
    "opt = Adam(learning_rate=INIT_LR, decay=INIT_LR / EPOCHS)\n",
    "model.compile(loss=\"binary_crossentropy\", optimizer=opt,\n",
    "              metrics=[\"accuracy\"])\n"
   ]
  },
  {
   "cell_type": "code",
   "execution_count": 13,
   "id": "df6e51c3",
   "metadata": {},
   "outputs": [
    {
     "name": "stdout",
     "output_type": "stream",
     "text": [
      "[INFO] Training head!\n"
     ]
    },
    {
     "name": "stderr",
     "output_type": "stream",
     "text": [
      "2022-06-03 13:08:10.841554: I tensorflow/compiler/mlir/mlir_graph_optimization_pass.cc:176] None of the MLIR Optimization Passes are enabled (registered 2)\n",
      "2022-06-03 13:08:10.841914: W tensorflow/core/platform/profile_utils/cpu_utils.cc:128] Failed to get CPU frequency: 0 Hz\n"
     ]
    },
    {
     "name": "stdout",
     "output_type": "stream",
     "text": [
      "Epoch 1/15\n"
     ]
    },
    {
     "name": "stderr",
     "output_type": "stream",
     "text": [
      "2022-06-03 13:08:11.478739: I tensorflow/core/grappler/optimizers/custom_graph_optimizer_registry.cc:112] Plugin optimizer for device_type GPU is enabled.\n"
     ]
    },
    {
     "name": "stdout",
     "output_type": "stream",
     "text": [
      "75/75 [==============================] - ETA: 0s - loss: 0.4275 - accuracy: 0.8496"
     ]
    },
    {
     "name": "stderr",
     "output_type": "stream",
     "text": [
      "2022-06-03 13:08:43.598028: I tensorflow/core/grappler/optimizers/custom_graph_optimizer_registry.cc:112] Plugin optimizer for device_type GPU is enabled.\n"
     ]
    },
    {
     "name": "stdout",
     "output_type": "stream",
     "text": [
      "75/75 [==============================] - 40s 515ms/step - loss: 0.4275 - accuracy: 0.8496 - val_loss: 0.1701 - val_accuracy: 0.9750\n",
      "Epoch 2/15\n",
      "75/75 [==============================] - 39s 518ms/step - loss: 0.1509 - accuracy: 0.9688 - val_loss: 0.0896 - val_accuracy: 0.9808\n",
      "Epoch 3/15\n",
      "75/75 [==============================] - 41s 535ms/step - loss: 0.0980 - accuracy: 0.9742 - val_loss: 0.0646 - val_accuracy: 0.9808\n",
      "Epoch 4/15\n",
      "75/75 [==============================] - 40s 534ms/step - loss: 0.0733 - accuracy: 0.9800 - val_loss: 0.0538 - val_accuracy: 0.9825\n",
      "Epoch 5/15\n",
      "75/75 [==============================] - 40s 534ms/step - loss: 0.0626 - accuracy: 0.9825 - val_loss: 0.0454 - val_accuracy: 0.9833\n",
      "Epoch 6/15\n",
      "75/75 [==============================] - 40s 525ms/step - loss: 0.0572 - accuracy: 0.9838 - val_loss: 0.0397 - val_accuracy: 0.9867\n",
      "Epoch 7/15\n",
      "75/75 [==============================] - 40s 534ms/step - loss: 0.0467 - accuracy: 0.9869 - val_loss: 0.0364 - val_accuracy: 0.9858\n",
      "Epoch 8/15\n",
      "75/75 [==============================] - 41s 538ms/step - loss: 0.0425 - accuracy: 0.9875 - val_loss: 0.0334 - val_accuracy: 0.9883\n",
      "Epoch 9/15\n",
      "75/75 [==============================] - 44s 588ms/step - loss: 0.0405 - accuracy: 0.9883 - val_loss: 0.0301 - val_accuracy: 0.9908\n",
      "Epoch 10/15\n",
      "75/75 [==============================] - 47s 619ms/step - loss: 0.0383 - accuracy: 0.9873 - val_loss: 0.0284 - val_accuracy: 0.9908\n",
      "Epoch 11/15\n",
      "75/75 [==============================] - 46s 605ms/step - loss: 0.0363 - accuracy: 0.9900 - val_loss: 0.0280 - val_accuracy: 0.9908\n",
      "Epoch 12/15\n",
      "75/75 [==============================] - 41s 540ms/step - loss: 0.0363 - accuracy: 0.9883 - val_loss: 0.0278 - val_accuracy: 0.9900\n",
      "Epoch 13/15\n",
      "75/75 [==============================] - 39s 515ms/step - loss: 0.0338 - accuracy: 0.9888 - val_loss: 0.0265 - val_accuracy: 0.9900\n",
      "Epoch 14/15\n",
      "75/75 [==============================] - 40s 529ms/step - loss: 0.0267 - accuracy: 0.9921 - val_loss: 0.0248 - val_accuracy: 0.9917\n",
      "Epoch 15/15\n",
      "75/75 [==============================] - 40s 524ms/step - loss: 0.0286 - accuracy: 0.9917 - val_loss: 0.0240 - val_accuracy: 0.9933\n"
     ]
    }
   ],
   "source": [
    "# Train the head of the NN\n",
    "print(\"[INFO] Training head!\")\n",
    "H = model.fit(\n",
    "    aug.flow(trainX, trainY, batch_size=BS),\n",
    "    steps_per_epoch=len(trainX) // BS,\n",
    "    validation_data=(testX,testY),\n",
    "    validation_steps=len(testX) // BS,\n",
    "    epochs=EPOCHS)"
   ]
  },
  {
   "cell_type": "code",
   "execution_count": 14,
   "id": "60976f45",
   "metadata": {},
   "outputs": [
    {
     "name": "stdout",
     "output_type": "stream",
     "text": [
      "[INFO] evaluating network...\n"
     ]
    },
    {
     "name": "stderr",
     "output_type": "stream",
     "text": [
      "2022-06-03 13:18:29.399649: I tensorflow/core/grappler/optimizers/custom_graph_optimizer_registry.cc:112] Plugin optimizer for device_type GPU is enabled.\n"
     ]
    },
    {
     "name": "stdout",
     "output_type": "stream",
     "text": [
      "              precision    recall  f1-score   support\n",
      "\n",
      "   with_mask       0.99      0.99      0.99       600\n",
      "without_mask       0.99      0.99      0.99       600\n",
      "\n",
      "    accuracy                           0.99      1200\n",
      "   macro avg       0.99      0.99      0.99      1200\n",
      "weighted avg       0.99      0.99      0.99      1200\n",
      "\n"
     ]
    }
   ],
   "source": [
    "# make predictions on the testing set\n",
    "print(\"[INFO] evaluating network...\")\n",
    "predIdxs = model.predict(testX, batch_size=BS)\n",
    "\n",
    "# for each image in the testing set we need to find the index of the label with\n",
    "# corresponding largest predicted probability\n",
    "predIdxs = np.argmax(predIdxs, axis=1)\n",
    "\n",
    "# show a nicely formatted classification report\n",
    "print(classification_report(testY.argmax(axis=1), predIdxs, \n",
    "                            target_names=lb.classes_))\n",
    "\n"
   ]
  },
  {
   "cell_type": "code",
   "execution_count": 15,
   "id": "31c67b75",
   "metadata": {},
   "outputs": [
    {
     "data": {
      "text/plain": [
       "<module 'matplotlib.pyplot' from '/Users/leequan/miniforge3/envs/tensorflow/lib/python3.9/site-packages/matplotlib/pyplot.py'>"
      ]
     },
     "execution_count": 15,
     "metadata": {},
     "output_type": "execute_result"
    },
    {
     "data": {
      "image/png": "[encoded data removed]",
      "text/plain": [
       "<Figure size 432x288 with 1 Axes>"
      ]
     },
     "metadata": {
      "needs_background": "light"
     },
     "output_type": "display_data"
    }
   ],
   "source": [
    "# Plot training loss and accuracy\n",
    "N = EPOCHS\n",
    "plt.style.use(\"ggplot\")\n",
    "plt.figure()\n",
    "plt.plot(np.arange(0, N), H.history[\"loss\"], label=\"train_loss\")\n",
    "plt.plot(np.arange(0, N), H.history[\"val_loss\"], label=\"val_loss\")\n",
    "plt.plot(np.arange(0, N), H.history[\"accuracy\"], label=\"train_acc\")\n",
    "plt.plot(np.arange(0, N), H.history[\"val_accuracy\"], label=\"val_acc\")\n",
    "plt.title(\"Training Loss and Accuracy\")\n",
    "plt.xlabel(\"Epoch #\")\n",
    "plt.ylabel(\"Loss/Accuracy\")\n",
    "plt.legend(loc=\"lower left\")\n",
    "plt.savefig(\"plot.png\")\n",
    "\n",
    "plt"
   ]
  },
  {
   "cell_type": "code",
   "execution_count": 16,
   "id": "1aba035a",
   "metadata": {},
   "outputs": [
    {
     "name": "stdout",
     "output_type": "stream",
     "text": [
      "[INFO] Generating confusion matrix...\n"
     ]
    }
   ],
   "source": [
    "print(\"[INFO] Generating confusion matrix...\")\n",
    "from sklearn.metrics import confusion_matrix, ConfusionMatrixDisplay\n",
    "import itertools"
   ]
  },
  {
   "cell_type": "code",
   "execution_count": 17,
   "id": "a9be5426",
   "metadata": {},
   "outputs": [],
   "source": [
    "cm = confusion_matrix(y_true=testY.argmax(axis=1), y_pred = predIdxs)"
   ]
  },
  {
   "cell_type": "code",
   "execution_count": 18,
   "id": "8d5bca27",
   "metadata": {},
   "outputs": [
    {
     "data": {
      "text/plain": [
       "array([[596,   4],\n",
       "       [  4, 596]])"
      ]
     },
     "execution_count": 18,
     "metadata": {},
     "output_type": "execute_result"
    }
   ],
   "source": [
    "cm"
   ]
  },
  {
   "cell_type": "code",
   "execution_count": 19,
   "id": "f68667ec",
   "metadata": {},
   "outputs": [],
   "source": [
    "# Function to plot confusion matrix, do not import the plot_confusion_matrix from sklearn.metrics because \n",
    "# we do not have estimator here.\n",
    "def plot_confusion_matrix(cm, classes, normalize=False, title=\"Confusion Matrix\", cmap=plt.cm.Blues):\n",
    "    plt.imshow(cm,interpolation=\"nearest\",cmap=cmap)\n",
    "    plt.title(title)\n",
    "    plt.colorbar()\n",
    "    tick_marks=np.arange(len(classes))\n",
    "    plt.xticks(tick_marks, classes, rotation=45)\n",
    "    plt.yticks(tick_marks, classes)\n",
    "    \n",
    "    if normalize:\n",
    "        cm = cm.astype('float') / cm.sum(axis=1)[:, np.newaxis]\n",
    "        print(\"Normalised Confusion Matrix\")\n",
    "    else:\n",
    "        print(\"Confusion Matrix without Normalization\")\n",
    "        \n",
    "    print(cm)\n",
    "    \n",
    "    thres = cm.max()/2\n",
    "    for i,j in itertools.product(range(cm.shape[0]),range(cm.shape[1])):\n",
    "        plt.text(j,i,cm[i,j],horizontalalignment=\"center\", color=\"white\" if cm[i,j] > thres else \"black\")\n",
    "        \n",
    "    plt.tight_layout()\n",
    "    plt.xlabel(\"Predicted Label\")\n",
    "    plt.ylabel(\"True Label\")"
   ]
  },
  {
   "cell_type": "code",
   "execution_count": 20,
   "id": "ee10a3a6",
   "metadata": {},
   "outputs": [
    {
     "name": "stdout",
     "output_type": "stream",
     "text": [
      "Confusion Matrix without Normalization\n",
      "[[596   4]\n",
      " [  4 596]]\n"
     ]
    },
    {
     "data": {
      "image/png": "[encoded data removed]",
      "text/plain": [
       "<Figure size 432x288 with 2 Axes>"
      ]
     },
     "metadata": {
      "needs_background": "light"
     },
     "output_type": "display_data"
    }
   ],
   "source": [
    "\n",
    "plot_confusion_matrix(cm=cm, classes=CATEGORIES, title=\"Confusion Matrix\" )"
   ]
  },
  {
   "cell_type": "code",
   "execution_count": 21,
   "id": "b3e23b12",
   "metadata": {},
   "outputs": [
    {
     "data": {
      "text/plain": [
       "<sklearn.metrics._plot.confusion_matrix.ConfusionMatrixDisplay at 0x1106acf70>"
      ]
     },
     "execution_count": 21,
     "metadata": {},
     "output_type": "execute_result"
    },
    {
     "data": {
      "image/png": "[encoded data removed]",
      "text/plain": [
       "<Figure size 432x288 with 2 Axes>"
      ]
     },
     "metadata": {
      "needs_background": "light"
     },
     "output_type": "display_data"
    }
   ],
   "source": [
    "#Easier way of plotting confusion matrix\n",
    "disp = ConfusionMatrixDisplay(confusion_matrix=cm, display_labels=CATEGORIES)\n",
    "disp.plot(cmap=plt.cm.Blues)"
   ]
  },
  {
   "cell_type": "code",
   "execution_count": 22,
   "id": "a8c88231",
   "metadata": {},
   "outputs": [
    {
     "name": "stdout",
     "output_type": "stream",
     "text": [
      "[INFO] saving mask detector model...\n"
     ]
    },
    {
     "name": "stderr",
     "output_type": "stream",
     "text": [
      "/Users/leequan/miniforge3/envs/tensorflow/lib/python3.9/site-packages/tensorflow/python/keras/utils/generic_utils.py:494: CustomMaskWarning: Custom mask layers require a config and must override get_config. When loading, the custom mask layer must be passed to the custom_objects argument.\n",
      "  warnings.warn('Custom mask layers require a config and must override '\n"
     ]
    }
   ],
   "source": [
    "# SERIALIZE model to the disk\n",
    "print(\"[INFO] saving mask detector model...\")\n",
    "model.save(\"3000facemask_detector.model\", save_format=\"h5\")"
   ]
  },
  {
   "cell_type": "code",
   "execution_count": null,
   "id": "42d070c4",
   "metadata": {},
   "outputs": [],
   "source": []
  }
 ],
 "metadata": {
  "kernelspec": {
   "display_name": "Python 3.9 (tensorflow)",
   "language": "python",
   "name": "tensorflow"
  },
  "language_info": {
   "codemirror_mode": {
    "name": "ipython",
    "version": 3
   },
   "file_extension": ".py",
   "mimetype": "text/x-python",
   "name": "python",
   "nbconvert_exporter": "python",
   "pygments_lexer": "ipython3",
   "version": "3.9.13"
  }
 },
 "nbformat": 4,
 "nbformat_minor": 5
}
